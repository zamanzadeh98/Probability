{
 "cells": [
  {
   "cell_type": "markdown",
   "id": "97f14778",
   "metadata": {},
   "source": [
    "# Binomial\n",
    "\n",
    "Binomial random variable is a discrete random variable where:\n",
    "1. we have `n` independent trials(the experiments stays the same!)\n",
    "2. each trial, have a probability of `p` of being successful.\n",
    "3. and we want to know the probability of `k` success out of n trials.\n",
    "\n",
    "$$P(X = k) = \\binom{n}{k} p^k (1 - p)^{n - k}$$\n",
    "\n",
    "If a random variable is distributed as binomial, we say:\n",
    "\n",
    "$$X \\sim Bin(n, p)$$\n",
    "\n",
    "Expected value and variance of binomial RV is calculated as:\n",
    "\n",
    "$$E[X] = n*p$$ and $$Var(X) = np(1-p)$$\n",
    "\n"
   ]
  },
  {
   "cell_type": "markdown",
   "id": "f7bf4908",
   "metadata": {},
   "source": [
    "**________________________________________________________________________________________________________________________**\n",
    "\n",
    "**Question**: In basketball, a team wins the series if it wins at least 4 games out of a series. If the probability of winning each individual game is 0.55, what is the probability of winning the entire series?\n",
    "\n",
    "Since we need the probability of winning **at least** 4 games, we need to consider winning the probability of winning 4,5,6,and 7 matches. In other words:\n",
    "$$P(X>=4) = ?$$\n",
    "where X is number of success\n",
    "\n",
    "solution:\n",
    "\n",
    "$$P(X>=4) = \\sum_{x=4}^{7} P(X=x)$$"
   ]
  },
  {
   "cell_type": "code",
   "execution_count": 96,
   "id": "5b0b53be",
   "metadata": {},
   "outputs": [],
   "source": [
    "import matplotlib.pyplot as plt\n",
    "import math\n",
    "import numpy as np"
   ]
  },
  {
   "cell_type": "code",
   "execution_count": 84,
   "id": "c6e0b760",
   "metadata": {},
   "outputs": [],
   "source": [
    "def binomial(n:int, p:float, k:int):\n",
    "    \"\"\"probability density function for a binomial\n",
    "    random variable\n",
    "    \n",
    "    parameters\n",
    "    ----------\n",
    "    n: int\n",
    "    number of trials\n",
    "    \n",
    "    p:float\n",
    "    probability of success\n",
    "    \n",
    "    k:int\n",
    "    desired number of success\n",
    "    \n",
    "    \n",
    "    return\n",
    "    ----------\n",
    "    assigned probability\n",
    "    \"\"\"\n",
    "    \n",
    "    # calculate the binomial coefficient\n",
    "    binCoeff = math.comb(n, k)\n",
    "    \n",
    "    success = np.power(p, k)\n",
    "    fail = np.power(1-p, n-k)\n",
    "    \n",
    "    return binCoeff*success*fail\n",
    "    "
   ]
  },
  {
   "cell_type": "code",
   "execution_count": 85,
   "id": "f60443f9",
   "metadata": {},
   "outputs": [
    {
     "name": "stdout",
     "output_type": "stream",
     "text": [
      "Probability of winning:  0.608287796875\n"
     ]
    }
   ],
   "source": [
    "n, p = 7, 0.55\n",
    "prob = 0\n",
    "\n",
    "for k in range(4, 8):\n",
    "    prob += binomial(n, p, k)\n",
    "\n",
    "print(\"Probability of winning: \" , prob)"
   ]
  },
  {
   "cell_type": "markdown",
   "id": "d501fe7f",
   "metadata": {},
   "source": [
    "## PMF\n",
    "Now lets plot the probability density function for different assignment of k (number of success)"
   ]
  },
  {
   "cell_type": "code",
   "execution_count": 95,
   "id": "8fcaed27",
   "metadata": {},
   "outputs": [
    {
     "name": "stdout",
     "output_type": "stream",
     "text": [
      "E[X]:  3.85\n",
      "Var(x) =  1.733\n"
     ]
    }
   ],
   "source": [
    "#representing the pmf as a dictionary\n",
    "pmf = {}\n",
    "\n",
    "for k in range(0, 8):\n",
    "    pmf[k] = binomial(n, p, k)\n",
    "    \n",
    "# Expected value and Variance\n",
    "print(\"E[X]: \", round((n*p), 3))\n",
    "print(\"Var(x) = \", round(n*p*(1-p), 3))"
   ]
  },
  {
   "cell_type": "code",
   "execution_count": 87,
   "id": "82168cab",
   "metadata": {},
   "outputs": [
    {
     "data": {
      "image/png": "[encoded data removed]",
      "text/plain": [
       "<Figure size 700x500 with 1 Axes>"
      ]
     },
     "metadata": {},
     "output_type": "display_data"
    }
   ],
   "source": [
    "plt.figure(figsize=(7,5))\n",
    "\n",
    "plt.bar(x=list(pmf.keys()), \n",
    "        height=list(pmf.values()), \n",
    "        width=0.6,\n",
    "       color=\"black\")\n",
    "\n",
    "plt.xlabel(\"X\")\n",
    "plt.ylabel(\"P(X=x)\")\n",
    "\n",
    "plt.gca().spines[\"right\"].set_visible(False)\n",
    "plt.gca().spines[\"top\"].set_visible(False)\n",
    "\n",
    "\n",
    "plt.show()"
   ]
  },
  {
   "cell_type": "code",
   "execution_count": null,
   "id": "f239514e",
   "metadata": {},
   "outputs": [],
   "source": []
  }
 ],
 "metadata": {
  "kernelspec": {
   "display_name": "Python 3 (ipykernel)",
   "language": "python",
   "name": "python3"
  },
  "language_info": {
   "codemirror_mode": {
    "name": "ipython",
    "version": 3
   },
   "file_extension": ".py",
   "mimetype": "text/x-python",
   "name": "python",
   "nbconvert_exporter": "python",
   "pygments_lexer": "ipython3",
   "version": "3.9.12"
  }
 },
 "nbformat": 4,
 "nbformat_minor": 5
}
