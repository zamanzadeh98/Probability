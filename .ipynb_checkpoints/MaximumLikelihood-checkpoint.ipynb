{
 "cells": [
  {
   "cell_type": "markdown",
   "id": "4778146d-b265-4711-8b00-ce7dbf2ba928",
   "metadata": {},
   "source": [
    "# Maximum Likelihood Estimation\n",
    "\n",
    "Suppose you have a dataset and you want to model it. For instance, you might want to use a normal distribution or a machine learning model. Each model comes with its own set of parameters. For example, in the case of a normal distribution, you need to specify $\\mu$ and $\\sigma$ to represent your probability density function (PDF). While the parameters of parametric models can be easily calculated using specific formulas, what about non-parametric data? In such situations, we turn to Maximum Likelihood Estimation (MLE) to estimate the optimal set of parameters.\n",
    "\n",
    "In Maximum Likelihood Estimation, our goal is to maximize the probability of observing our dataset given a particular set of parameters. In other words, we aim to find:\n",
    "\n",
    "$\\theta_{\\text{MLE}} = \\underset{\\theta}{\\arg\\max} \\prod_{i=1}^{n} f(x_i | \\theta)$\n",
    "\n",
    "To maximize this formula, we often use calculus and take derivatives. However, taking the derivative of a product formula can be challenging. That's where the log likelihood version comes into play:\n",
    "\n",
    "$ \\ell(\\theta) = \\sum_{i=1}^{n} \\log(f(x_i | \\theta))$\n",
    "\n",
    "We have a few options to solve this:\n",
    "\n",
    "1. If our formula is a convex function and differentiable, we can set the derivative to zero and find a set of parameters that maximizes our log-likelihood function.\n",
    "\n",
    "2. If our formula is not a convex function and differentiable, we can use gradient descent.\n",
    "\n",
    "**Important Note:** Before proceeding, it's crucial to determine which model best fits your data."
   ]
  },
  {
   "cell_type": "markdown",
   "id": "165ee9c0-87f0-4ad6-a8ed-57a676646d35",
   "metadata": {},
   "source": [
    "## Question 1:\n",
    "\n",
    "Create a model for this set of data:\n",
    "[55, 50, 48, 81, 49, 53, 43, 51, 50, 29, 60, 35]"
   ]
  },
  {
   "cell_type": "code",
   "execution_count": null,
   "id": "48256ffc-6290-4d52-b5d4-854687881546",
   "metadata": {},
   "outputs": [],
   "source": []
  }
 ],
 "metadata": {
  "kernelspec": {
   "display_name": "Python 3 (ipykernel)",
   "language": "python",
   "name": "python3"
  },
  "language_info": {
   "codemirror_mode": {
    "name": "ipython",
    "version": 3
   },
   "file_extension": ".py",
   "mimetype": "text/x-python",
   "name": "python",
   "nbconvert_exporter": "python",
   "pygments_lexer": "ipython3",
   "version": "3.11.5"
  }
 },
 "nbformat": 4,
 "nbformat_minor": 5
}
