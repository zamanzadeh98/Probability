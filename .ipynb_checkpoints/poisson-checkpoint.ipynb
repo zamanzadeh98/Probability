{
 "cells": [
  {
   "cell_type": "markdown",
   "id": "ef4aadc3",
   "metadata": {},
   "source": [
    "# Poisson\n",
    "\n",
    "Poisson random variavle (RV) specify the probability of a number occurrence within a fixed time interval. We say random variable X is distributed as a poisson by:\n",
    "\n",
    "$$X \\sim poi(\\lambda)$$\n",
    "\n",
    "where lambda is the rate. The probability density function for poisson is defined as:\n",
    "\n",
    "$$P(X = k) = \\frac{e^{-\\lambda} \\cdot \\lambda^k}{k!}$$\n",
    "\n",
    "here, `k` is the number occurrence!\n",
    "\n",
    "$$E[X] = \\lambda$$\n",
    "$$Var(X) = \\lambda$$\n",
    "\n",
    "**___________________________________________________________________________________________________________________________**\n",
    "\n",
    "**Question:**\n",
    "\n",
    "Imagine a person eats an average of 6.7 pizza every month. Now, what is the probability that he/she eats 10 pizza in the following month?\n",
    "\n",
    "**Answer:**\n",
    "\n",
    "let X be the number of pizza this person eats\n",
    "$$X \\sim poi(\\lambda=6.7)$$"
   ]
  },
  {
   "cell_type": "code",
   "execution_count": 6,
   "id": "3ed26348",
   "metadata": {},
   "outputs": [],
   "source": [
    "import matplotlib.pyplot as plt\n",
    "import numpy as np\n",
    "import math"
   ]
  },
  {
   "cell_type": "code",
   "execution_count": 7,
   "id": "b6edaec6",
   "metadata": {},
   "outputs": [],
   "source": [
    "def poisson(lam:float, k:int):\n",
    "    \"\"\"\n",
    "    PMF for poisson RV\n",
    "    \n",
    "    parameters\n",
    "    -----------\n",
    "    lam:float\n",
    "    rate\n",
    "    \n",
    "    k:int\n",
    "    number of occurrence\n",
    "    \n",
    "    return\n",
    "    ------------\n",
    "    prob:float\n",
    "    probability assigned to a variable\n",
    "    \"\"\"\n",
    "    \n",
    "    prob = ((math.exp(-lam)\n",
    "            *np.power(lam, k))\n",
    "            /math.factorial(k))\n",
    "    \n",
    "    return prob"
   ]
  },
  {
   "cell_type": "code",
   "execution_count": 8,
   "id": "ac3008bf",
   "metadata": {},
   "outputs": [
    {
     "data": {
      "text/plain": [
       "0.06183181079877536"
      ]
     },
     "execution_count": 8,
     "metadata": {},
     "output_type": "execute_result"
    }
   ],
   "source": [
    "poisson(6.7, 10)"
   ]
  },
  {
   "cell_type": "markdown",
   "id": "1b25cce3",
   "metadata": {},
   "source": [
    "## PMF\n",
    "Now lets plot the probability density function for different assignment of k"
   ]
  },
  {
   "cell_type": "code",
   "execution_count": 9,
   "id": "fc1db236",
   "metadata": {},
   "outputs": [],
   "source": [
    "pmf = {}\n",
    "\n",
    "for k in range(0, 20):\n",
    "    pmf[k] = poisson(6.7, k)"
   ]
  },
  {
   "cell_type": "code",
   "execution_count": 11,
   "id": "bfe496b7",
   "metadata": {},
   "outputs": [
    {
     "data": {
      "image/png": "[encoded data removed]",
      "text/plain": [
       "<Figure size 700x500 with 1 Axes>"
      ]
     },
     "metadata": {},
     "output_type": "display_data"
    }
   ],
   "source": [
    "plt.figure(figsize=(7,5))\n",
    "\n",
    "plt.bar(x=list(pmf.keys()), \n",
    "        height=list(pmf.values()), \n",
    "        width=0.6,\n",
    "        color=\"black\")\n",
    "\n",
    "plt.xlabel(\"X\")\n",
    "plt.ylabel(\"P(X=x)\")\n",
    "\n",
    "plt.gca().spines[\"right\"].set_visible(False)\n",
    "plt.gca().spines[\"top\"].set_visible(False)\n",
    "\n",
    "plt.title(\"Probability mass function for a poisson\")\n",
    "\n",
    "plt.show()"
   ]
  },
  {
   "cell_type": "code",
   "execution_count": null,
   "id": "6bdc12d4",
   "metadata": {},
   "outputs": [],
   "source": []
  }
 ],
 "metadata": {
  "kernelspec": {
   "display_name": "Python 3 (ipykernel)",
   "language": "python",
   "name": "python3"
  },
  "language_info": {
   "codemirror_mode": {
    "name": "ipython",
    "version": 3
   },
   "file_extension": ".py",
   "mimetype": "text/x-python",
   "name": "python",
   "nbconvert_exporter": "python",
   "pygments_lexer": "ipython3",
   "version": "3.9.12"
  }
 },
 "nbformat": 4,
 "nbformat_minor": 5
}
